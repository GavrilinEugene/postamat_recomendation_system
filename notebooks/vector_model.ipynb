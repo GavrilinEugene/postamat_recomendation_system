{
 "cells": [
  {
   "cell_type": "code",
   "execution_count": 1,
   "id": "c38b183b",
   "metadata": {},
   "outputs": [],
   "source": [
    "#core\n",
    "import sys\n",
    "import pandas as pd\n",
    "import numpy as np\n",
    "from sqlalchemy import create_engine\n",
    "from sklearn.metrics.pairwise import cosine_distances\n",
    "from sklearn.model_selection import train_test_split\n",
    "\n",
    "#geo\n",
    "import geopandas as gpd\n",
    "import h3pandas\n",
    "from shapely.geometry import Polygon, Point, LineString, shape\n",
    "from keplergl import KeplerGl\n",
    "\n",
    "sys.path.append('../src')\n",
    "\n",
    "import utils as gt\n",
    "from enums import postgress_connection, postgress_db, lp, schema, RES, bad_hex_with_postamat\n",
    "\n",
    "# some initial values\n",
    "engine = create_engine(f'postgresql://{lp}@{postgress_connection}/{postgress_db}')\n",
    "\n",
    "PATH = '../data'\n",
    "RANDOM_STATE = 42\n",
    "\n",
    "SCHEMA = schema\n",
    "pd.set_option('display.max_columns', 200)"
   ]
  },
  {
   "cell_type": "markdown",
   "id": "6be7e081",
   "metadata": {},
   "source": [
    "## Сбор данных"
   ]
  },
  {
   "cell_type": "code",
   "execution_count": 2,
   "id": "46c56aee",
   "metadata": {},
   "outputs": [],
   "source": [
    "df_feats = pd.read_sql(f\"select * from {SCHEMA}.platform_features\", engine)"
   ]
  },
  {
   "cell_type": "code",
   "execution_count": 3,
   "id": "19f86991",
   "metadata": {},
   "outputs": [
    {
     "data": {
      "text/plain": [
       "(3161, 10)"
      ]
     },
     "execution_count": 3,
     "metadata": {},
     "output_type": "execute_result"
    }
   ],
   "source": [
    "df_postamats = pd.read_sql(f\"\"\"\n",
    "with build as  \n",
    "(\n",
    " select * from postamat.platform_buildings pb \n",
    " where purpose_name  = 'Жилой дом'\n",
    ")\n",
    "select pc.*\n",
    "from build b\n",
    "join postamat.platform_companies pc \n",
    "    on text(pc.address_building_id) = b.id\n",
    "where rubric = 'Постаматы'\n",
    "    and rubrics_0_name = 'Постаматы'\n",
    "\"\"\", engine)\n",
    "df_postamats['company'] = df_postamats['name'].str.split(',').str[0]\n",
    "#фильтрация маленьких компаний\n",
    "filter_companies = df_postamats.groupby('company', as_index=False)[['rubric']].count()\n",
    "df_postamats = df_postamats[df_postamats['company']\\\n",
    "                .isin(filter_companies[filter_companies['rubric']>100]['company'].tolist())]\n",
    "\n",
    "df_postamats.shape"
   ]
  },
  {
   "cell_type": "code",
   "execution_count": 4,
   "id": "c575a3eb",
   "metadata": {},
   "outputs": [],
   "source": [
    "#проходимость\n",
    "df_passability = pd.read_sql(f\"\"\"SELECT geo_h3_10, cnt_morning, cnt_afternoon, cnt_evening, cnt_night\n",
    "FROM {SCHEMA}.msk_pass\"\"\", engine)"
   ]
  },
  {
   "cell_type": "code",
   "execution_count": 5,
   "id": "8af61666",
   "metadata": {},
   "outputs": [],
   "source": [
    "# фичи на хексагону\n",
    "df_piv = pd.pivot_table(df_feats, index = f'geo_h3_{RES}', columns = 'kind', values = df_feats.columns[2:])\n",
    "df_piv.columns = df_piv.columns.to_series().str.join('_')\n",
    "df_piv = pd.merge(df_piv, df_passability, how = 'left', on = f'geo_h3_{RES}')\n",
    "df_piv.fillna(0, inplace=True)"
   ]
  },
  {
   "cell_type": "code",
   "execution_count": 6,
   "id": "bb0ce180",
   "metadata": {},
   "outputs": [],
   "source": [
    "#выбираю рандомную часть от всех постаматов, тк всего их слишком много\n",
    "df_postamats, X_test = train_test_split(df_postamats, test_size=0.7, random_state=42)"
   ]
  },
  {
   "cell_type": "code",
   "execution_count": 7,
   "id": "27b64ea3",
   "metadata": {},
   "outputs": [
    {
     "data": {
      "text/plain": [
       "660969"
      ]
     },
     "execution_count": 7,
     "metadata": {},
     "output_type": "execute_result"
    }
   ],
   "source": [
    "df_postamats['geo_h3_10'].drop_duplicates().shape[0]**2"
   ]
  },
  {
   "cell_type": "code",
   "execution_count": 8,
   "id": "11df9be8",
   "metadata": {},
   "outputs": [
    {
     "name": "stderr",
     "output_type": "stream",
     "text": [
      "/var/folders/3q/9304t9dj6yb6rxcr24slkv500000gn/T/ipykernel_33053/797631876.py:2: FutureWarning: The default value of numeric_only in DataFrame.corr is deprecated. In a future version, it will default to False. Select only valid columns or specify the value of numeric_only to silence this warning.\n",
      "  df_corr = df_piv.corr()[['postamaty_walking_5min']].reset_index()\n"
     ]
    },
    {
     "data": {
      "text/plain": [
       "0.03647771130908677"
      ]
     },
     "execution_count": 8,
     "metadata": {},
     "output_type": "execute_result"
    }
   ],
   "source": [
    "#корреляция фичей с постаматами\n",
    "df_corr = df_piv.corr()[['postamaty_walking_5min']].reset_index()\n",
    "df_corr['postamaty_walking_5min'].min() #должны быть только положительные корреляции"
   ]
  },
  {
   "cell_type": "code",
   "execution_count": 9,
   "id": "40bf9cd0",
   "metadata": {},
   "outputs": [],
   "source": [
    "#выбираем топ 50 фичей по корреляции\n",
    "df_corr = df_corr.sort_values(by='postamaty_walking_5min', ascending=False)[2:52]\n",
    "MODEL_COLUMNS = df_corr['index'].tolist()"
   ]
  },
  {
   "cell_type": "code",
   "execution_count": 10,
   "id": "7d159208",
   "metadata": {},
   "outputs": [
    {
     "data": {
      "text/plain": [
       "(813, 53)"
      ]
     },
     "execution_count": 10,
     "metadata": {},
     "output_type": "execute_result"
    }
   ],
   "source": [
    "#На постаматы натягиваю фичи\n",
    "df_data = df_postamats.merge(df_piv[['geo_h3_10']+MODEL_COLUMNS], on='geo_h3_10')\n",
    "df_data.fillna(0, inplace=True)\n",
    "df_data = df_data[['geo_h3_10']+MODEL_COLUMNS].drop_duplicates()\n",
    "df_data['join_col'] = 1\n",
    "df_data['np_array'] = df_data.apply(lambda x: \n",
    "                        np.array(x[MODEL_COLUMNS]).reshape(1,-1), axis=1)\n",
    "df_data.shape"
   ]
  },
  {
   "cell_type": "code",
   "execution_count": 11,
   "id": "7f35cac7",
   "metadata": {},
   "outputs": [],
   "source": [
    "#вариант расчета на numpy\n",
    "# %%time\n",
    "# x_array = np.array(df_data[[name+'_x' for name in MODEL_COLUMNS]])\n",
    "# y_array = np.array(df_data[[name+'_y' for name in MODEL_COLUMNS]])\n",
    "# dist_array = np.array([])\n",
    "\n",
    "# for i in range(x_array.shape[0]):\n",
    "#     np.append(dist_array, cosine_distances(x_array[i].reshape(1,-1), y_array[i].reshape(1,-1)))"
   ]
  },
  {
   "cell_type": "code",
   "execution_count": 12,
   "id": "4c9d155f",
   "metadata": {},
   "outputs": [
    {
     "name": "stdout",
     "output_type": "stream",
     "text": [
      "CPU times: user 1min 29s, sys: 4.71 s, total: 1min 33s\n",
      "Wall time: 1min 36s\n"
     ]
    },
    {
     "data": {
      "text/plain": [
       "(660156, 106)"
      ]
     },
     "execution_count": 12,
     "metadata": {},
     "output_type": "execute_result"
    }
   ],
   "source": [
    "%%time\n",
    "# считаем косинусыне расстояния\n",
    "df_data = df_data.merge(df_data, how='left', on='join_col')\n",
    "df_data['cos_dist'] = df_data.apply(lambda x: cosine_distances(x['np_array_x'], x['np_array_y'])[0][0], axis=1)\n",
    "df_data = df_data[df_data['geo_h3_10_x']!=df_data['geo_h3_10_y']].reset_index(drop=True)\n",
    "df_data.shape"
   ]
  },
  {
   "cell_type": "code",
   "execution_count": 13,
   "id": "aa192b5c",
   "metadata": {},
   "outputs": [
    {
     "data": {
      "text/plain": [
       "<AxesSubplot: >"
      ]
     },
     "execution_count": 13,
     "metadata": {},
     "output_type": "execute_result"
    },
    {
     "data": {
      "image/png": "[encoded data removed]",
      "text/plain": [
       "<Figure size 500x300 with 1 Axes>"
      ]
     },
     "metadata": {},
     "output_type": "display_data"
    }
   ],
   "source": [
    "df_data['cos_dist'].hist(bins=100, figsize=(5,3))"
   ]
  },
  {
   "cell_type": "code",
   "execution_count": 14,
   "id": "d5f0f7dd",
   "metadata": {},
   "outputs": [
    {
     "data": {
      "text/plain": [
       "<AxesSubplot: >"
      ]
     },
     "execution_count": 14,
     "metadata": {},
     "output_type": "execute_result"
    },
    {
     "data": {
      "image/png": "[encoded data removed]",
      "text/plain": [
       "<Figure size 500x300 with 1 Axes>"
      ]
     },
     "metadata": {},
     "output_type": "display_data"
    }
   ],
   "source": [
    "df_data[df_data['cos_dist']<0.08]['cos_dist'].hist(bins=100, figsize=(5,3))"
   ]
  },
  {
   "cell_type": "code",
   "execution_count": 15,
   "id": "4e889238",
   "metadata": {},
   "outputs": [],
   "source": [
    "#топ 10 хескагон\n",
    "df_data_10 = df_data.sort_values(by='cos_dist', ascending=True).head(9)"
   ]
  },
  {
   "cell_type": "code",
   "execution_count": 16,
   "id": "b0e8195c",
   "metadata": {},
   "outputs": [],
   "source": [
    "good_hex = pd.DataFrame(pd.concat([df_data_10['geo_h3_10_x'], \n",
    "                                   df_data_10['geo_h3_10_y']]).drop_duplicates(), \\\n",
    "                        columns=['geo_h3_10']).reset_index(drop=True)\n",
    "good_hex = good_hex.merge(df_piv[['geo_h3_10']+MODEL_COLUMNS], on='geo_h3_10')\n",
    "good_hex['join_col'] = 1\n",
    "good_hex['np_array'] = good_hex.apply(lambda x: \n",
    "                        np.array(x[MODEL_COLUMNS]).reshape(1,-1), axis=1)"
   ]
  },
  {
   "cell_type": "code",
   "execution_count": 17,
   "id": "475c72cc",
   "metadata": {},
   "outputs": [
    {
     "data": {
      "text/plain": [
       "(10, 53)"
      ]
     },
     "execution_count": 17,
     "metadata": {},
     "output_type": "execute_result"
    }
   ],
   "source": [
    "good_hex.shape"
   ]
  },
  {
   "cell_type": "code",
   "execution_count": 18,
   "id": "6ea6f867",
   "metadata": {},
   "outputs": [
    {
     "data": {
      "text/plain": [
       "['8a11aa6a469ffff',\n",
       " '8a11aa4eb48ffff',\n",
       " '8a11aa71454ffff',\n",
       " '8a11aa44c2a7fff',\n",
       " '8a11aa45371ffff',\n",
       " '8a11aa624a6ffff',\n",
       " '8a11aa61898ffff',\n",
       " '8a11aa61476ffff',\n",
       " '8a11aa702697fff',\n",
       " '8a11aa709d07fff']"
      ]
     },
     "execution_count": 18,
     "metadata": {},
     "output_type": "execute_result"
    }
   ],
   "source": [
    "good_hex['geo_h3_10'].tolist()"
   ]
  },
  {
   "cell_type": "code",
   "execution_count": 19,
   "id": "5c375ada",
   "metadata": {},
   "outputs": [
    {
     "data": {
      "text/plain": [
       "(787570, 108)"
      ]
     },
     "execution_count": 19,
     "metadata": {},
     "output_type": "execute_result"
    }
   ],
   "source": [
    "#вся москва\n",
    "df_pred_all = df_piv.reset_index()[[f'geo_h3_{RES}']+MODEL_COLUMNS]\n",
    "df_pred_all['join_col'] = 1\n",
    "df_pred_all['np_array'] = df_pred_all.apply(lambda x: \n",
    "                        np.array(x[MODEL_COLUMNS]).reshape(1,-1), axis=1)\n",
    "df_pred_all = df_pred_all.merge(good_hex, how='left', on='join_col')\n",
    "df_pred_all['cos_dist'] = df_pred_all.apply(lambda x: \n",
    "                                            cosine_distances(x['np_array_x'], x['np_array_y'])[0][0], \n",
    "                                            axis=1)\n",
    "df_pred_all = gt.geo_lat_lon_from_h3(df_pred_all, f'geo_h3_{RES}_x')\n",
    "df_pred_all.shape"
   ]
  },
  {
   "cell_type": "code",
   "execution_count": 20,
   "id": "6138cc94",
   "metadata": {},
   "outputs": [],
   "source": [
    "df_for_map = df_pred_all.groupby(by=[f'geo_h3_{RES}_x', 'lat', 'lon'])\\\n",
    "        ['cos_dist'].agg(['median', 'min', 'mean']).reset_index()\n",
    "df_for_map['median'] = 1 - df_for_map['median']\n",
    "df_for_map['min'] = 1 - df_for_map['min']\n",
    "df_for_map['mean'] = 1 - df_for_map['mean']"
   ]
  },
  {
   "cell_type": "code",
   "execution_count": 21,
   "id": "e4fd3444",
   "metadata": {},
   "outputs": [],
   "source": [
    "df_for_map = df_for_map.rename(columns={'geo_h3_10_x': 'geo_h3_10'})"
   ]
  },
  {
   "cell_type": "code",
   "execution_count": 22,
   "id": "671e8a85",
   "metadata": {},
   "outputs": [
    {
     "data": {
      "text/html": [
       "<div>\n",
       "<style scoped>\n",
       "    .dataframe tbody tr th:only-of-type {\n",
       "        vertical-align: middle;\n",
       "    }\n",
       "\n",
       "    .dataframe tbody tr th {\n",
       "        vertical-align: top;\n",
       "    }\n",
       "\n",
       "    .dataframe thead th {\n",
       "        text-align: right;\n",
       "    }\n",
       "</style>\n",
       "<table border=\"1\" class=\"dataframe\">\n",
       "  <thead>\n",
       "    <tr style=\"text-align: right;\">\n",
       "      <th></th>\n",
       "      <th>geo_h3_10</th>\n",
       "      <th>lat</th>\n",
       "      <th>lon</th>\n",
       "      <th>median</th>\n",
       "      <th>min</th>\n",
       "      <th>mean</th>\n",
       "    </tr>\n",
       "  </thead>\n",
       "  <tbody>\n",
       "    <tr>\n",
       "      <th>6382</th>\n",
       "      <td>8a11aa000ac7fff</td>\n",
       "      <td>56.007661</td>\n",
       "      <td>37.154566</td>\n",
       "      <td>0.0</td>\n",
       "      <td>0.0</td>\n",
       "      <td>0.0</td>\n",
       "    </tr>\n",
       "    <tr>\n",
       "      <th>32686</th>\n",
       "      <td>8a11aa623487fff</td>\n",
       "      <td>55.842465</td>\n",
       "      <td>37.708927</td>\n",
       "      <td>0.0</td>\n",
       "      <td>0.0</td>\n",
       "      <td>0.0</td>\n",
       "    </tr>\n",
       "    <tr>\n",
       "      <th>32687</th>\n",
       "      <td>8a11aa62348ffff</td>\n",
       "      <td>55.843158</td>\n",
       "      <td>37.710563</td>\n",
       "      <td>0.0</td>\n",
       "      <td>0.0</td>\n",
       "      <td>0.0</td>\n",
       "    </tr>\n",
       "    <tr>\n",
       "      <th>24420</th>\n",
       "      <td>8a11aa5446b7fff</td>\n",
       "      <td>55.728059</td>\n",
       "      <td>37.076331</td>\n",
       "      <td>0.0</td>\n",
       "      <td>0.0</td>\n",
       "      <td>0.0</td>\n",
       "    </tr>\n",
       "    <tr>\n",
       "      <th>32688</th>\n",
       "      <td>8a11aa623497fff</td>\n",
       "      <td>55.841276</td>\n",
       "      <td>37.709056</td>\n",
       "      <td>0.0</td>\n",
       "      <td>0.0</td>\n",
       "      <td>0.0</td>\n",
       "    </tr>\n",
       "  </tbody>\n",
       "</table>\n",
       "</div>"
      ],
      "text/plain": [
       "             geo_h3_10        lat        lon  median  min  mean\n",
       "6382   8a11aa000ac7fff  56.007661  37.154566     0.0  0.0   0.0\n",
       "32686  8a11aa623487fff  55.842465  37.708927     0.0  0.0   0.0\n",
       "32687  8a11aa62348ffff  55.843158  37.710563     0.0  0.0   0.0\n",
       "24420  8a11aa5446b7fff  55.728059  37.076331     0.0  0.0   0.0\n",
       "32688  8a11aa623497fff  55.841276  37.709056     0.0  0.0   0.0"
      ]
     },
     "execution_count": 22,
     "metadata": {},
     "output_type": "execute_result"
    }
   ],
   "source": [
    "df_for_map.sort_values(by='median').head()"
   ]
  },
  {
   "cell_type": "code",
   "execution_count": 23,
   "id": "af9ac331",
   "metadata": {},
   "outputs": [
    {
     "data": {
      "text/plain": [
       "<AxesSubplot: >"
      ]
     },
     "execution_count": 23,
     "metadata": {},
     "output_type": "execute_result"
    },
    {
     "data": {
      "image/png": "[encoded data removed]",
      "text/plain": [
       "<Figure size 500x300 with 1 Axes>"
      ]
     },
     "metadata": {},
     "output_type": "display_data"
    }
   ],
   "source": [
    "df_for_map['median'].hist(bins=100, figsize=(5,3))"
   ]
  },
  {
   "cell_type": "code",
   "execution_count": 24,
   "id": "bd564294",
   "metadata": {},
   "outputs": [
    {
     "data": {
      "text/html": [
       "<div>\n",
       "<style scoped>\n",
       "    .dataframe tbody tr th:only-of-type {\n",
       "        vertical-align: middle;\n",
       "    }\n",
       "\n",
       "    .dataframe tbody tr th {\n",
       "        vertical-align: top;\n",
       "    }\n",
       "\n",
       "    .dataframe thead th {\n",
       "        text-align: right;\n",
       "    }\n",
       "</style>\n",
       "<table border=\"1\" class=\"dataframe\">\n",
       "  <thead>\n",
       "    <tr style=\"text-align: right;\">\n",
       "      <th></th>\n",
       "      <th>geo_h3_10</th>\n",
       "      <th>lat</th>\n",
       "      <th>lon</th>\n",
       "      <th>median</th>\n",
       "      <th>min</th>\n",
       "      <th>mean</th>\n",
       "    </tr>\n",
       "  </thead>\n",
       "  <tbody>\n",
       "    <tr>\n",
       "      <th>0</th>\n",
       "      <td>8a1181b0d827fff</td>\n",
       "      <td>55.496330</td>\n",
       "      <td>37.600208</td>\n",
       "      <td>0.890795</td>\n",
       "      <td>0.928233</td>\n",
       "      <td>0.892590</td>\n",
       "    </tr>\n",
       "    <tr>\n",
       "      <th>1</th>\n",
       "      <td>8a1181b0d867fff</td>\n",
       "      <td>55.498905</td>\n",
       "      <td>37.603315</td>\n",
       "      <td>0.991118</td>\n",
       "      <td>0.993494</td>\n",
       "      <td>0.989311</td>\n",
       "    </tr>\n",
       "    <tr>\n",
       "      <th>2</th>\n",
       "      <td>8a1181b0d907fff</td>\n",
       "      <td>55.496133</td>\n",
       "      <td>37.596840</td>\n",
       "      <td>0.923169</td>\n",
       "      <td>0.953919</td>\n",
       "      <td>0.924265</td>\n",
       "    </tr>\n",
       "    <tr>\n",
       "      <th>3</th>\n",
       "      <td>8a1181b0d90ffff</td>\n",
       "      <td>55.496826</td>\n",
       "      <td>37.598459</td>\n",
       "      <td>0.891679</td>\n",
       "      <td>0.928952</td>\n",
       "      <td>0.893456</td>\n",
       "    </tr>\n",
       "    <tr>\n",
       "      <th>4</th>\n",
       "      <td>8a1181b0d917fff</td>\n",
       "      <td>55.494944</td>\n",
       "      <td>37.596971</td>\n",
       "      <td>0.892814</td>\n",
       "      <td>0.929875</td>\n",
       "      <td>0.894569</td>\n",
       "    </tr>\n",
       "  </tbody>\n",
       "</table>\n",
       "</div>"
      ],
      "text/plain": [
       "         geo_h3_10        lat        lon    median       min      mean\n",
       "0  8a1181b0d827fff  55.496330  37.600208  0.890795  0.928233  0.892590\n",
       "1  8a1181b0d867fff  55.498905  37.603315  0.991118  0.993494  0.989311\n",
       "2  8a1181b0d907fff  55.496133  37.596840  0.923169  0.953919  0.924265\n",
       "3  8a1181b0d90ffff  55.496826  37.598459  0.891679  0.928952  0.893456\n",
       "4  8a1181b0d917fff  55.494944  37.596971  0.892814  0.929875  0.894569"
      ]
     },
     "execution_count": 24,
     "metadata": {},
     "output_type": "execute_result"
    }
   ],
   "source": [
    "df_for_map.head()"
   ]
  },
  {
   "cell_type": "markdown",
   "id": "7cc520c3",
   "metadata": {},
   "source": [
    "map_ = KeplerGl(height=800)\n",
    "map_.add_data(df_for_map[['lat', 'lon', 'median', 'min']], 'moscow')\n",
    "map_"
   ]
  },
  {
   "cell_type": "markdown",
   "id": "a0ebba0e",
   "metadata": {},
   "source": [
    "df_for_map.to_sql(schema=SCHEMA, name = 'vector_model_msk_predictions', \n",
    "                  con=engine, if_exists='replace', index=None)"
   ]
  },
  {
   "cell_type": "code",
   "execution_count": 25,
   "id": "53828caa",
   "metadata": {},
   "outputs": [],
   "source": [
    "df_for_map = df_for_map.rename(columns={'median': 'predictions'})\n",
    "df_for_map['model_type'] = 'Векторная модель'"
   ]
  },
  {
   "cell_type": "code",
   "execution_count": 28,
   "id": "fd31901a",
   "metadata": {},
   "outputs": [
    {
     "data": {
      "text/plain": [
       "757"
      ]
     },
     "execution_count": 28,
     "metadata": {},
     "output_type": "execute_result"
    }
   ],
   "source": [
    "df_for_map[['geo_h3_10', 'predictions', 'model_type']]\\\n",
    ".to_sql(schema=SCHEMA, name = 'platform_model', con=engine, if_exists='append', index=None)"
   ]
  },
  {
   "cell_type": "code",
   "execution_count": null,
   "id": "e498b97f",
   "metadata": {},
   "outputs": [],
   "source": []
  },
  {
   "cell_type": "code",
   "execution_count": null,
   "id": "d899632c",
   "metadata": {},
   "outputs": [],
   "source": []
  },
  {
   "cell_type": "code",
   "execution_count": null,
   "id": "3284be04",
   "metadata": {},
   "outputs": [],
   "source": []
  }
 ],
 "metadata": {
  "kernelspec": {
   "display_name": "ltc22",
   "language": "python",
   "name": "ltc22"
  },
  "language_info": {
   "codemirror_mode": {
    "name": "ipython",
    "version": 3
   },
   "file_extension": ".py",
   "mimetype": "text/x-python",
   "name": "python",
   "nbconvert_exporter": "python",
   "pygments_lexer": "ipython3",
   "version": "3.8.13"
  }
 },
 "nbformat": 4,
 "nbformat_minor": 5
}
