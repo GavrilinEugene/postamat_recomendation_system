{
 "cells": [
  {
   "cell_type": "code",
   "execution_count": 1,
   "id": "796e9a70",
   "metadata": {},
   "outputs": [],
   "source": [
    "#core\n",
    "import sys\n",
    "import pandas as pd\n",
    "import numpy as np\n",
    "from sqlalchemy import create_engine\n",
    "from sklearn.metrics.pairwise import cosine_distances\n",
    "from sklearn.model_selection import train_test_split\n",
    "\n",
    "#geo\n",
    "import geopandas as gpd\n",
    "import h3pandas\n",
    "from shapely.geometry import Polygon, Point, LineString, shape\n",
    "from keplergl import KeplerGl\n",
    "\n",
    "sys.path.append('../src')\n",
    "\n",
    "import utils as gt\n",
    "from enums import postgress_connection, postgress_db, lp, schema, RES, bad_hex_with_postamat\n",
    "\n",
    "# some initial values\n",
    "engine = create_engine(f'postgresql://{lp}@{postgress_connection}/{postgress_db}')\n",
    "\n",
    "PATH = '../data'\n",
    "RANDOM_STATE = 42\n",
    "\n",
    "SCHEMA = schema\n",
    "pd.set_option('display.max_columns', 200)"
   ]
  },
  {
   "cell_type": "markdown",
   "id": "e2c1bbcd",
   "metadata": {},
   "source": [
    "## Сбор данных"
   ]
  },
  {
   "cell_type": "code",
   "execution_count": 2,
   "id": "900a75df",
   "metadata": {},
   "outputs": [],
   "source": [
    "df_feats = pd.read_sql(f\"select * from {SCHEMA}.platform_features\", engine)"
   ]
  },
  {
   "cell_type": "code",
   "execution_count": 3,
   "id": "54e4bee7",
   "metadata": {},
   "outputs": [
    {
     "data": {
      "text/plain": [
       "(3161, 10)"
      ]
     },
     "execution_count": 3,
     "metadata": {},
     "output_type": "execute_result"
    }
   ],
   "source": [
    "df_postamats = pd.read_sql(f\"\"\"\n",
    "with build as  \n",
    "(\n",
    " select * from postamat.platform_buildings pb \n",
    " where purpose_name  = 'Жилой дом'\n",
    ")\n",
    "select pc.*\n",
    "from build b\n",
    "join postamat.platform_companies pc \n",
    "    on text(pc.address_building_id) = b.id\n",
    "where rubric = 'Постаматы'\n",
    "    and rubrics_0_name = 'Постаматы'\n",
    "\"\"\", engine)\n",
    "df_postamats['company'] = df_postamats['name'].str.split(',').str[0]\n",
    "#фильтрация маленьких компаний\n",
    "filter_companies = df_postamats.groupby('company', as_index=False)[['rubric']].count()\n",
    "df_postamats = df_postamats[df_postamats['company']\\\n",
    "                .isin(filter_companies[filter_companies['rubric']>100]['company'].tolist())]\n",
    "\n",
    "df_postamats.shape"
   ]
  },
  {
   "cell_type": "code",
   "execution_count": 4,
   "id": "f7527ae1",
   "metadata": {},
   "outputs": [],
   "source": [
    "#проходимость\n",
    "df_passability = pd.read_sql(f\"\"\"SELECT geo_h3_10, cnt_morning, cnt_afternoon, cnt_evening, cnt_night\n",
    "FROM {SCHEMA}.msk_pass\"\"\", engine)"
   ]
  },
  {
   "cell_type": "code",
   "execution_count": 5,
   "id": "779c1cf1",
   "metadata": {},
   "outputs": [],
   "source": [
    "# фичи на хексагону\n",
    "df_piv = pd.pivot_table(df_feats, index = f'geo_h3_{RES}', columns = 'kind', values = df_feats.columns[2:])\n",
    "df_piv.columns = df_piv.columns.to_series().str.join('_')\n",
    "df_piv = pd.merge(df_piv, df_passability, how = 'left', on = f'geo_h3_{RES}')\n",
    "df_piv.fillna(0, inplace=True)"
   ]
  },
  {
   "cell_type": "code",
   "execution_count": 6,
   "id": "4fde995f",
   "metadata": {},
   "outputs": [],
   "source": [
    "#выбираю рандомную часть от всех постаматов, тк всего их слишком много\n",
    "df_postamats, X_test = train_test_split(df_postamats, test_size=0.7, random_state=42)"
   ]
  },
  {
   "cell_type": "code",
   "execution_count": 7,
   "id": "3bec4aca",
   "metadata": {},
   "outputs": [
    {
     "data": {
      "text/plain": [
       "632025"
      ]
     },
     "execution_count": 7,
     "metadata": {},
     "output_type": "execute_result"
    }
   ],
   "source": [
    "df_postamats['geo_h3_10'].drop_duplicates().shape[0]**2"
   ]
  },
  {
   "cell_type": "code",
   "execution_count": 8,
   "id": "34030fd7",
   "metadata": {},
   "outputs": [
    {
     "name": "stderr",
     "output_type": "stream",
     "text": [
      "/var/folders/3q/9304t9dj6yb6rxcr24slkv500000gn/T/ipykernel_31255/797631876.py:2: FutureWarning: The default value of numeric_only in DataFrame.corr is deprecated. In a future version, it will default to False. Select only valid columns or specify the value of numeric_only to silence this warning.\n",
      "  df_corr = df_piv.corr()[['postamaty_walking_5min']].reset_index()\n"
     ]
    },
    {
     "data": {
      "text/plain": [
       "0.03647771130908677"
      ]
     },
     "execution_count": 8,
     "metadata": {},
     "output_type": "execute_result"
    }
   ],
   "source": [
    "#корреляция фичей с постаматами\n",
    "df_corr = df_piv.corr()[['postamaty_walking_5min']].reset_index()\n",
    "df_corr['postamaty_walking_5min'].min() #должны быть только положительные корреляции"
   ]
  },
  {
   "cell_type": "code",
   "execution_count": 9,
   "id": "65403d38",
   "metadata": {},
   "outputs": [],
   "source": [
    "#выбираем топ 50 фичей по корреляции\n",
    "df_corr = df_corr.sort_values(by='postamaty_walking_5min', ascending=False)[2:52]\n",
    "MODEL_COLUMNS = df_corr['index'].tolist()"
   ]
  },
  {
   "cell_type": "code",
   "execution_count": 10,
   "id": "0d5bc9eb",
   "metadata": {},
   "outputs": [
    {
     "data": {
      "text/plain": [
       "(794, 53)"
      ]
     },
     "execution_count": 10,
     "metadata": {},
     "output_type": "execute_result"
    }
   ],
   "source": [
    "#На постаматы натягиваю фичи\n",
    "df_data = df_postamats.merge(df_piv[['geo_h3_10']+MODEL_COLUMNS], on='geo_h3_10')\n",
    "df_data.fillna(0, inplace=True)\n",
    "df_data = df_data[['geo_h3_10']+MODEL_COLUMNS].drop_duplicates()\n",
    "df_data['join_col'] = 1\n",
    "df_data['np_array'] = df_data.apply(lambda x: \n",
    "                        np.array(x[MODEL_COLUMNS]).reshape(1,-1), axis=1)\n",
    "df_data.shape"
   ]
  },
  {
   "cell_type": "code",
   "execution_count": 11,
   "id": "eb7459d0",
   "metadata": {},
   "outputs": [],
   "source": [
    "#вариант расчета на numpy\n",
    "# %%time\n",
    "# x_array = np.array(df_data[[name+'_x' for name in MODEL_COLUMNS]])\n",
    "# y_array = np.array(df_data[[name+'_y' for name in MODEL_COLUMNS]])\n",
    "# dist_array = np.array([])\n",
    "\n",
    "# for i in range(x_array.shape[0]):\n",
    "#     np.append(dist_array, cosine_distances(x_array[i].reshape(1,-1), y_array[i].reshape(1,-1)))"
   ]
  },
  {
   "cell_type": "code",
   "execution_count": 12,
   "id": "6ac8eee1",
   "metadata": {},
   "outputs": [
    {
     "name": "stdout",
     "output_type": "stream",
     "text": [
      "CPU times: user 1min 19s, sys: 3.21 s, total: 1min 22s\n",
      "Wall time: 1min 23s\n"
     ]
    },
    {
     "data": {
      "text/plain": [
       "(629642, 106)"
      ]
     },
     "execution_count": 12,
     "metadata": {},
     "output_type": "execute_result"
    }
   ],
   "source": [
    "%%time\n",
    "# считаем косинусыне расстояния\n",
    "df_data = df_data.merge(df_data, how='left', on='join_col')\n",
    "df_data['cos_dist'] = df_data.apply(lambda x: cosine_distances(x['np_array_x'], x['np_array_y'])[0][0], axis=1)\n",
    "df_data = df_data[df_data['geo_h3_10_x']!=df_data['geo_h3_10_y']].reset_index(drop=True)\n",
    "df_data.shape"
   ]
  },
  {
   "cell_type": "code",
   "execution_count": 13,
   "id": "d689acdc",
   "metadata": {},
   "outputs": [
    {
     "data": {
      "text/plain": [
       "<AxesSubplot: >"
      ]
     },
     "execution_count": 13,
     "metadata": {},
     "output_type": "execute_result"
    },
    {
     "data": {
      "image/png": "[encoded data removed]",
      "text/plain": [
       "<Figure size 500x300 with 1 Axes>"
      ]
     },
     "metadata": {},
     "output_type": "display_data"
    }
   ],
   "source": [
    "df_data['cos_dist'].hist(bins=100, figsize=(5,3))"
   ]
  },
  {
   "cell_type": "code",
   "execution_count": 30,
   "id": "b41e367c",
   "metadata": {},
   "outputs": [
    {
     "data": {
      "text/plain": [
       "<AxesSubplot: >"
      ]
     },
     "execution_count": 30,
     "metadata": {},
     "output_type": "execute_result"
    },
    {
     "data": {
      "image/png": "[encoded data removed]",
      "text/plain": [
       "<Figure size 500x300 with 1 Axes>"
      ]
     },
     "metadata": {},
     "output_type": "display_data"
    }
   ],
   "source": [
    "df_data[df_data['cos_dist']<0.08]['cos_dist'].hist(bins=100, figsize=(5,3))"
   ]
  },
  {
   "cell_type": "code",
   "execution_count": 14,
   "id": "16b28020",
   "metadata": {},
   "outputs": [],
   "source": [
    "#топ 10 хескагон\n",
    "df_data_10 = df_data.sort_values(by='cos_dist', ascending=True).head(9)"
   ]
  },
  {
   "cell_type": "code",
   "execution_count": 15,
   "id": "04282bf5",
   "metadata": {},
   "outputs": [],
   "source": [
    "good_hex = pd.DataFrame(pd.concat([df_data_10['geo_h3_10_x'], \n",
    "                                   df_data_10['geo_h3_10_y']]).drop_duplicates(), \\\n",
    "                        columns=['geo_h3_10']).reset_index(drop=True)\n",
    "good_hex = good_hex.merge(df_piv[['geo_h3_10']+MODEL_COLUMNS], on='geo_h3_10')\n",
    "good_hex['join_col'] = 1\n",
    "good_hex['np_array'] = good_hex.apply(lambda x: \n",
    "                        np.array(x[MODEL_COLUMNS]).reshape(1,-1), axis=1)"
   ]
  },
  {
   "cell_type": "code",
   "execution_count": 16,
   "id": "95086ed2",
   "metadata": {},
   "outputs": [
    {
     "data": {
      "text/plain": [
       "(10, 53)"
      ]
     },
     "execution_count": 16,
     "metadata": {},
     "output_type": "execute_result"
    }
   ],
   "source": [
    "good_hex.shape"
   ]
  },
  {
   "cell_type": "code",
   "execution_count": 17,
   "id": "75d6eb6b",
   "metadata": {},
   "outputs": [
    {
     "data": {
      "text/plain": [
       "['8a11aa4cdb77fff',\n",
       " '8a11aa70d28ffff',\n",
       " '8a11aa70090ffff',\n",
       " '8a11aa70d6cffff',\n",
       " '8a11aa7050e7fff',\n",
       " '8a11aa79b88ffff',\n",
       " '8a11aa794b1ffff',\n",
       " '8a11aa61270ffff',\n",
       " '8a11aa612727fff',\n",
       " '8a11aa7058e7fff']"
      ]
     },
     "execution_count": 17,
     "metadata": {},
     "output_type": "execute_result"
    }
   ],
   "source": [
    "good_hex['geo_h3_10'].tolist()"
   ]
  },
  {
   "cell_type": "code",
   "execution_count": 18,
   "id": "8fa1c15a",
   "metadata": {},
   "outputs": [
    {
     "data": {
      "text/plain": [
       "(787570, 108)"
      ]
     },
     "execution_count": 18,
     "metadata": {},
     "output_type": "execute_result"
    }
   ],
   "source": [
    "#вся москва\n",
    "df_pred_all = df_piv.reset_index()[[f'geo_h3_{RES}']+MODEL_COLUMNS]\n",
    "df_pred_all['join_col'] = 1\n",
    "df_pred_all['np_array'] = df_pred_all.apply(lambda x: \n",
    "                        np.array(x[MODEL_COLUMNS]).reshape(1,-1), axis=1)\n",
    "df_pred_all = df_pred_all.merge(good_hex, how='left', on='join_col')\n",
    "df_pred_all['cos_dist'] = df_pred_all.apply(lambda x: \n",
    "                                            cosine_distances(x['np_array_x'], x['np_array_y'])[0][0], \n",
    "                                            axis=1)\n",
    "df_pred_all = gt.geo_lat_lon_from_h3(df_pred_all, f'geo_h3_{RES}_x')\n",
    "df_pred_all.shape"
   ]
  },
  {
   "cell_type": "code",
   "execution_count": 19,
   "id": "fc95bced",
   "metadata": {},
   "outputs": [],
   "source": [
    "df_for_map = df_pred_all.groupby(by=[f'geo_h3_{RES}_x', 'lat', 'lon'])\\\n",
    "        ['cos_dist'].agg(['median', 'min', 'mean']).reset_index()\n",
    "df_for_map['median'] = 1 - df_for_map['median']\n",
    "df_for_map['min'] = 1 - df_for_map['min']\n",
    "df_for_map['mean'] = 1 - df_for_map['mean']"
   ]
  },
  {
   "cell_type": "code",
   "execution_count": 25,
   "id": "d27c14bc",
   "metadata": {},
   "outputs": [],
   "source": [
    "df_for_map = df_for_map.rename(columns={'geo_h3_10_x': 'geo_h3_10'})"
   ]
  },
  {
   "cell_type": "code",
   "execution_count": 26,
   "id": "8935a657",
   "metadata": {},
   "outputs": [
    {
     "data": {
      "text/html": [
       "<div>\n",
       "<style scoped>\n",
       "    .dataframe tbody tr th:only-of-type {\n",
       "        vertical-align: middle;\n",
       "    }\n",
       "\n",
       "    .dataframe tbody tr th {\n",
       "        vertical-align: top;\n",
       "    }\n",
       "\n",
       "    .dataframe thead th {\n",
       "        text-align: right;\n",
       "    }\n",
       "</style>\n",
       "<table border=\"1\" class=\"dataframe\">\n",
       "  <thead>\n",
       "    <tr style=\"text-align: right;\">\n",
       "      <th></th>\n",
       "      <th>geo_h3_10</th>\n",
       "      <th>lat</th>\n",
       "      <th>lon</th>\n",
       "      <th>median</th>\n",
       "      <th>min</th>\n",
       "      <th>mean</th>\n",
       "    </tr>\n",
       "  </thead>\n",
       "  <tbody>\n",
       "    <tr>\n",
       "      <th>6506</th>\n",
       "      <td>8a11aa001787fff</td>\n",
       "      <td>56.011750</td>\n",
       "      <td>37.181440</td>\n",
       "      <td>0.000000</td>\n",
       "      <td>0.000000</td>\n",
       "      <td>0.000000</td>\n",
       "    </tr>\n",
       "    <tr>\n",
       "      <th>39332</th>\n",
       "      <td>8a11aa699197fff</td>\n",
       "      <td>55.680277</td>\n",
       "      <td>37.960004</td>\n",
       "      <td>0.000000</td>\n",
       "      <td>0.000000</td>\n",
       "      <td>0.000000</td>\n",
       "    </tr>\n",
       "    <tr>\n",
       "      <th>39333</th>\n",
       "      <td>8a11aa69919ffff</td>\n",
       "      <td>55.680967</td>\n",
       "      <td>37.961641</td>\n",
       "      <td>0.000000</td>\n",
       "      <td>0.000000</td>\n",
       "      <td>0.000000</td>\n",
       "    </tr>\n",
       "    <tr>\n",
       "      <th>39334</th>\n",
       "      <td>8a11aa6991a7fff</td>\n",
       "      <td>55.681969</td>\n",
       "      <td>37.958126</td>\n",
       "      <td>0.000000</td>\n",
       "      <td>0.000000</td>\n",
       "      <td>0.000000</td>\n",
       "    </tr>\n",
       "    <tr>\n",
       "      <th>39335</th>\n",
       "      <td>8a11aa6991affff</td>\n",
       "      <td>55.682659</td>\n",
       "      <td>37.959762</td>\n",
       "      <td>0.000000</td>\n",
       "      <td>0.000000</td>\n",
       "      <td>0.000000</td>\n",
       "    </tr>\n",
       "    <tr>\n",
       "      <th>...</th>\n",
       "      <td>...</td>\n",
       "      <td>...</td>\n",
       "      <td>...</td>\n",
       "      <td>...</td>\n",
       "      <td>...</td>\n",
       "      <td>...</td>\n",
       "    </tr>\n",
       "    <tr>\n",
       "      <th>29382</th>\n",
       "      <td>8a11aa61446ffff</td>\n",
       "      <td>55.770740</td>\n",
       "      <td>37.730327</td>\n",
       "      <td>0.999956</td>\n",
       "      <td>0.999999</td>\n",
       "      <td>0.998704</td>\n",
       "    </tr>\n",
       "    <tr>\n",
       "      <th>20404</th>\n",
       "      <td>8a11aa4cb2d7fff</td>\n",
       "      <td>55.614332</td>\n",
       "      <td>37.582131</td>\n",
       "      <td>0.999956</td>\n",
       "      <td>0.999999</td>\n",
       "      <td>0.998690</td>\n",
       "    </tr>\n",
       "    <tr>\n",
       "      <th>32201</th>\n",
       "      <td>8a11aa621caffff</td>\n",
       "      <td>55.867219</td>\n",
       "      <td>37.682292</td>\n",
       "      <td>0.999958</td>\n",
       "      <td>0.999997</td>\n",
       "      <td>0.998628</td>\n",
       "    </tr>\n",
       "    <tr>\n",
       "      <th>20961</th>\n",
       "      <td>8a11aa4cd217fff</td>\n",
       "      <td>55.636791</td>\n",
       "      <td>37.526956</td>\n",
       "      <td>0.999958</td>\n",
       "      <td>0.999999</td>\n",
       "      <td>0.998660</td>\n",
       "    </tr>\n",
       "    <tr>\n",
       "      <th>23357</th>\n",
       "      <td>8a11aa4eb037fff</td>\n",
       "      <td>55.634470</td>\n",
       "      <td>37.477944</td>\n",
       "      <td>0.999959</td>\n",
       "      <td>0.999999</td>\n",
       "      <td>0.998651</td>\n",
       "    </tr>\n",
       "  </tbody>\n",
       "</table>\n",
       "<p>78757 rows × 6 columns</p>\n",
       "</div>"
      ],
      "text/plain": [
       "             geo_h3_10        lat        lon    median       min      mean\n",
       "6506   8a11aa001787fff  56.011750  37.181440  0.000000  0.000000  0.000000\n",
       "39332  8a11aa699197fff  55.680277  37.960004  0.000000  0.000000  0.000000\n",
       "39333  8a11aa69919ffff  55.680967  37.961641  0.000000  0.000000  0.000000\n",
       "39334  8a11aa6991a7fff  55.681969  37.958126  0.000000  0.000000  0.000000\n",
       "39335  8a11aa6991affff  55.682659  37.959762  0.000000  0.000000  0.000000\n",
       "...                ...        ...        ...       ...       ...       ...\n",
       "29382  8a11aa61446ffff  55.770740  37.730327  0.999956  0.999999  0.998704\n",
       "20404  8a11aa4cb2d7fff  55.614332  37.582131  0.999956  0.999999  0.998690\n",
       "32201  8a11aa621caffff  55.867219  37.682292  0.999958  0.999997  0.998628\n",
       "20961  8a11aa4cd217fff  55.636791  37.526956  0.999958  0.999999  0.998660\n",
       "23357  8a11aa4eb037fff  55.634470  37.477944  0.999959  0.999999  0.998651\n",
       "\n",
       "[78757 rows x 6 columns]"
      ]
     },
     "execution_count": 26,
     "metadata": {},
     "output_type": "execute_result"
    }
   ],
   "source": [
    "df_for_map.sort_values(by='median')"
   ]
  },
  {
   "cell_type": "code",
   "execution_count": 31,
   "id": "858f632f",
   "metadata": {},
   "outputs": [
    {
     "data": {
      "text/plain": [
       "<AxesSubplot: >"
      ]
     },
     "execution_count": 31,
     "metadata": {},
     "output_type": "execute_result"
    },
    {
     "data": {
      "image/png": "[encoded data removed]",
      "text/plain": [
       "<Figure size 500x300 with 1 Axes>"
      ]
     },
     "metadata": {},
     "output_type": "display_data"
    }
   ],
   "source": [
    "df_for_map['median'].hist(bins=100, figsize=(5,3))"
   ]
  },
  {
   "cell_type": "markdown",
   "id": "bdea4bab",
   "metadata": {},
   "source": [
    "map_ = KeplerGl(height=800)\n",
    "map_.add_data(df_for_map[['lat', 'lon', 'median', 'min']], 'moscow')\n",
    "map_"
   ]
  },
  {
   "cell_type": "markdown",
   "id": "2ff342d3",
   "metadata": {},
   "source": [
    "df_for_map.to_sql(schema=SCHEMA, name = 'vector_model_msk_predictions', \n",
    "                  con=engine, if_exists='replace', index=None)"
   ]
  },
  {
   "cell_type": "code",
   "execution_count": null,
   "id": "ae6e69c9",
   "metadata": {},
   "outputs": [],
   "source": []
  },
  {
   "cell_type": "code",
   "execution_count": null,
   "id": "e523f150",
   "metadata": {},
   "outputs": [],
   "source": []
  },
  {
   "cell_type": "code",
   "execution_count": null,
   "id": "9ba7dd97",
   "metadata": {},
   "outputs": [],
   "source": []
  },
  {
   "cell_type": "code",
   "execution_count": null,
   "id": "13d964c6",
   "metadata": {},
   "outputs": [],
   "source": []
  }
 ],
 "metadata": {
  "kernelspec": {
   "display_name": "ltc22",
   "language": "python",
   "name": "ltc22"
  },
  "language_info": {
   "codemirror_mode": {
    "name": "ipython",
    "version": 3
   },
   "file_extension": ".py",
   "mimetype": "text/x-python",
   "name": "python",
   "nbconvert_exporter": "python",
   "pygments_lexer": "ipython3",
   "version": "3.8.13"
  }
 },
 "nbformat": 4,
 "nbformat_minor": 5
}
